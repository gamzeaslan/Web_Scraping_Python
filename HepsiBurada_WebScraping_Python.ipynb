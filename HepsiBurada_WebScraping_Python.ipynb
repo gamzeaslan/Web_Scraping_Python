{
  "nbformat": 4,
  "nbformat_minor": 0,
  "metadata": {
    "colab": {
      "provenance": []
    },
    "kernelspec": {
      "name": "python3",
      "display_name": "Python 3"
    },
    "language_info": {
      "name": "python"
    }
  },
  "cells": [
    {
      "cell_type": "code",
      "source": [
        "import requests\n",
        "from bs4 import BeautifulSoup"
      ],
      "metadata": {
        "id": "N9WJX9bQ4CRF"
      },
      "execution_count": 16,
      "outputs": []
    },
    {
      "cell_type": "code",
      "source": [
        "url=\"https://www.hepsiburada.com/kadin-parfumler-c-32010684\""
      ],
      "metadata": {
        "id": "2D9g3fUJ56Jx"
      },
      "execution_count": 17,
      "outputs": []
    },
    {
      "cell_type": "code",
      "source": [
        "header={\"user-agent\":\"Mozilla/5.0 (Windows NT 10.0; Win64; x64) AppleWebKit/537.36 (KHTML, like Gecko) Chrome/108.0.0.0 Safari/537.36\"}\n",
        "response=requests.get(url,headers=header)"
      ],
      "metadata": {
        "id": "VXK-ABHW5_a3"
      },
      "execution_count": 20,
      "outputs": []
    },
    {
      "cell_type": "code",
      "source": [
        "print(response)#sucessful connection"
      ],
      "metadata": {
        "colab": {
          "base_uri": "https://localhost:8080/"
        },
        "id": "BzcKjHLS6BkH",
        "outputId": "92cf9990-792a-4771-821e-bfcb0cba369d"
      },
      "execution_count": 21,
      "outputs": [
        {
          "output_type": "stream",
          "name": "stdout",
          "text": [
            "<Response [200]>\n"
          ]
        }
      ]
    },
    {
      "cell_type": "code",
      "source": [
        "soup=BeautifulSoup(response.content,\"html.parser\")"
      ],
      "metadata": {
        "id": "JHCxsSJU6DDY"
      },
      "execution_count": 22,
      "outputs": []
    },
    {
      "cell_type": "code",
      "source": [
        "s_r=soup.find(\"div\",{\"class\":\"productListContent-pXUkO4iHa51o_17CBibU\"}).find(\"ul\")"
      ],
      "metadata": {
        "id": "L1W_zlg669CZ"
      },
      "execution_count": 23,
      "outputs": []
    },
    {
      "cell_type": "code",
      "source": [
        "url_list=[]\n",
        "for item in s_r:\n",
        "  try:\n",
        "    url=\"https://www.hepsiburada.com\"+item.find(\"a\").get(\"href\")\n",
        "    url_list.append(url)\n",
        "  except:\n",
        "    print(\"--------\")\n",
        "  "
      ],
      "metadata": {
        "colab": {
          "base_uri": "https://localhost:8080/"
        },
        "id": "tRkYJS-p7RS5",
        "outputId": "9b0b7756-f55f-4f03-864f-0ec63b3bebca"
      },
      "execution_count": 30,
      "outputs": [
        {
          "output_type": "stream",
          "name": "stdout",
          "text": [
            "--------\n"
          ]
        }
      ]
    },
    {
      "cell_type": "code",
      "source": [
        "product_name=[]\n",
        "product_price=[]"
      ],
      "metadata": {
        "id": "iU6RIEE1AkEb"
      },
      "execution_count": 45,
      "outputs": []
    },
    {
      "cell_type": "code",
      "source": [
        "header={\"user-agent\":\"Mozilla/5.0 (Windows NT 10.0; Win64; x64) AppleWebKit/537.36 (KHTML, like Gecko) Chrome/108.0.0.0 Safari/537.36\"}\n",
        "for item in url_list:\n",
        "  response=requests.get(item,headers=header)\n",
        "  soup=BeautifulSoup(response.content,\"html.parser\")\n",
        "  s_r=soup.find(\"div\",{\"class\":\"product-price-wrapper\"})\n",
        "  price=s_r.find(\"del\",{\"class\":\"price-old\"}).text\n",
        "  product_price.append(price)\n",
        "  s_r_2=soup.find(\"header\",{\"class\":\"title-wrapper\"})\n",
        "  name=s_r_2.text\n",
        "  product_name.append(name)"
      ],
      "metadata": {
        "id": "9jdep0K57Unx"
      },
      "execution_count": 46,
      "outputs": []
    },
    {
      "cell_type": "code",
      "source": [
        "print(len(product_name),len(product_price))"
      ],
      "metadata": {
        "colab": {
          "base_uri": "https://localhost:8080/"
        },
        "id": "qPVx1_r89LPw",
        "outputId": "19916807-3fc7-4811-c4dc-16c61b698073"
      },
      "execution_count": 50,
      "outputs": [
        {
          "output_type": "stream",
          "name": "stdout",
          "text": [
            "24 24\n"
          ]
        }
      ]
    },
    {
      "cell_type": "code",
      "source": [
        "import pandas as pd"
      ],
      "metadata": {
        "id": "nZSftze3A-YZ"
      },
      "execution_count": 51,
      "outputs": []
    },
    {
      "cell_type": "code",
      "source": [
        "dic={\"Name\":product_name,\n",
        "     \"Price\":product_price}"
      ],
      "metadata": {
        "id": "HPgu9LdmBKSw"
      },
      "execution_count": 53,
      "outputs": []
    },
    {
      "cell_type": "code",
      "source": [
        "df=pd.DataFrame(dic)"
      ],
      "metadata": {
        "id": "Wz510IcCBP83"
      },
      "execution_count": 54,
      "outputs": []
    },
    {
      "cell_type": "code",
      "source": [
        "print(df)"
      ],
      "metadata": {
        "colab": {
          "base_uri": "https://localhost:8080/"
        },
        "id": "p6LXtkhwBViJ",
        "outputId": "a4cc9cb6-f732-405d-f087-32752fdb2177"
      },
      "execution_count": 55,
      "outputs": [
        {
          "output_type": "stream",
          "name": "stdout",
          "text": [
            "                                                 Name        Price\n",
            "0   \\nEmotion Ocean Fresh EDT Kadın Parfüm 50 ml &...    152,17 TL\n",
            "1   \\nEmotion Romance EDT Kadın Parfüm 50 ml & Deo...    152,17 TL\n",
            "2   \\nCalvin Klein Euphoria EDP 100 ml Kadın Parfüm\\n    824,90 TL\n",
            "3           \\nTlg Atlantis Extrait De Parfüm 100 ml\\n    449,90 TL\n",
            "4       \\nCalvin Klein One Edt 200 ml Unisex Parfüm\\n    419,90 TL\n",
            "5   \\nLuxury Prestige Grasse Women Gold Intens 100...  1.650,00 TL\n",
            "6    \\nAvon Celebre ve Pur Blanca Kadın Parfüm Seti\\n    139,90 TL\n",
            "7        \\nAvon Wish Of Love Edt 50 Ml Kadın Parfüm\\n     52,90 TL\n",
            "8              \\nAvon Pur Blanca 50 Ml Kadın Parfüm\\n     66,90 TL\n",
            "9   \\nLoris K-276 Frequence Parfume Edp 50ML Kadın...    130,00 TL\n",
            "10  \\nPoni Secret Bayan Parfüm Edt For Women Kalıc...     59,99 TL\n",
            "11  \\nVgm La Vie Est Belle Edp 50ML Kadın Sprey Pa...    429,00 TL\n",
            "12  \\nAvon Wish Of Love Edt 50 Ml Kadın 2'li Parfü...     95,90 TL\n",
            "13  \\nRoyal Club de Polo Barcelona Rosado 50 ml ED...    205,90 TL\n",
            "14          \\nPrivacy Woman EDT Kadın Parfüm 100 ml\\n    133,27 TL\n",
            "15           \\nZara Go Fruıty Eau De Toılette 90 ml\\n    369,00 TL\n",
            "16                    \\nPoni Dream Kadın Parfüm Edt\\n     59,99 TL\n",
            "17           \\nAvon Far Away Edp 30 Ml Kadın Parfüm\\n     53,90 TL\n",
            "18  \\nGreathings Doldurulabilir Mini Cep Parfüm Şi...     29,90 TL\n",
            "19           \\nAvon Perceive Edp 30 Ml Kadın Parfüm\\n     53,90 TL\n",
            "20  \\nBargello Kadın Kadın Parfüm 122 Oriental 50 ...    130,00 TL\n",
            "21  \\nAvon Pur Blanca Edt 50 Ml Bayan Parfüm 2 Adet\\n    125,90 TL\n",
            "22  \\nAvon Far Away Glamour Kadın Parfüm Edp 30 Ml.\\n     47,90 TL\n",
            "23  \\nAvon Pur Blanca Edt 50 Ml Ve Wish Of Love Ed...    109,90 TL\n"
          ]
        }
      ]
    },
    {
      "cell_type": "code",
      "source": [],
      "metadata": {
        "id": "WpBxHjFvBWr3"
      },
      "execution_count": null,
      "outputs": []
    }
  ]
}