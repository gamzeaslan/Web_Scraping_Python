{
  "cells": [
    {
      "cell_type": "code",
      "execution_count": null,
      "metadata": {
        "id": "qYoKGtBpNQ8q"
      },
      "outputs": [],
      "source": [
        "import requests\n",
        "from bs4 import BeautifulSoup"
      ]
    },
    {
      "cell_type": "code",
      "execution_count": null,
      "metadata": {
        "id": "KutnTm3FNVO-"
      },
      "outputs": [],
      "source": [
        "url=\"https://www.europages.co.uk/companies/turkey/pharmaceutical%20companies%20turkey.html\""
      ]
    },
    {
      "cell_type": "code",
      "execution_count": null,
      "metadata": {
        "id": "Sde_mc6CNYI2"
      },
      "outputs": [],
      "source": [
        "response=requests.get(url)"
      ]
    },
    {
      "cell_type": "code",
      "execution_count": null,
      "metadata": {
        "colab": {
          "base_uri": "https://localhost:8080/"
        },
        "id": "maEPhrwuNbtD",
        "outputId": "b2f91e83-ab23-4db4-f6be-f5fe18516e77"
      },
      "outputs": [
        {
          "name": "stdout",
          "output_type": "stream",
          "text": [
            "<Response [200]>\n"
          ]
        }
      ],
      "source": [
        "print(response)"
      ]
    },
    {
      "cell_type": "code",
      "execution_count": null,
      "metadata": {
        "id": "P-mFHWlZNeV0"
      },
      "outputs": [],
      "source": [
        "soup=BeautifulSoup(response.content,\"html.parser\")"
      ]
    },
    {
      "cell_type": "code",
      "execution_count": null,
      "metadata": {
        "id": "Hi7SgkG8NkVl"
      },
      "outputs": [],
      "source": [
        "find=soup.find(\"div\",{\"class\":\"ep-serp-wrapper__listing mt-4 mt-md-0\"}).find_all(\"ul\",{\"class\":\"ep-server-side-pagination__list text-center pl-0 pt-5\"})"
      ]
    },
    {
      "cell_type": "code",
      "execution_count": null,
      "metadata": {
        "id": "sVxmzk91O8E2"
      },
      "outputs": [],
      "source": [
        "url_list=[]"
      ]
    },
    {
      "cell_type": "code",
      "execution_count": null,
      "metadata": {
        "id": "i4y9OQe3N9Gz"
      },
      "outputs": [],
      "source": [
        "for item in find:\n",
        "  i=item.find_all(\"li\")\n",
        "  for i2 in i:\n",
        "    i3=(i2.find_all(\"a\"))\n",
        "    for i4 in i3:\n",
        "      url_list.append(\"https://www.europages.co.uk\"+i4.get(\"href\"))"
      ]
    },
    {
      "cell_type": "code",
      "execution_count": null,
      "metadata": {
        "id": "9L8G00aDPBLM"
      },
      "outputs": [],
      "source": [
        "url_list2=[]"
      ]
    },
    {
      "cell_type": "code",
      "execution_count": null,
      "metadata": {
        "id": "rbHy9DKXPDNT"
      },
      "outputs": [],
      "source": [
        "i=0\n",
        "while(i<2):\n",
        "  url_list2.append(url_list[i])\n",
        "  i+=1"
      ]
    },
    {
      "cell_type": "code",
      "source": [
        "company_name_list=[]"
      ],
      "metadata": {
        "id": "g7wj5deOUEuG"
      },
      "execution_count": 66,
      "outputs": []
    },
    {
      "cell_type": "code",
      "execution_count": 67,
      "metadata": {
        "id": "Atd7Qi2IPKI8"
      },
      "outputs": [],
      "source": [
        "for url in url_list2:\n",
        "  response=requests.get(url)\n",
        "  soup=BeautifulSoup(response.content,\"html.parser\")\n",
        "  find=soup.find(\"div\",{\"class\":\"ep-serp-wrapper__listing mt-4 mt-md-0\"}).find_all(\"ol\",{\"class\":\"ep-page-serp-companies__epages-list ps-0\"})\n",
        "  for item in find:\n",
        "    i=(item.find_all(\"header\",{\"class\":\"ep-ecard__top-actions\"}))\n",
        "    for i2 in i:\n",
        "      i3=i2.find_all(\"p\")\n",
        "      for i4 in i3:\n",
        "        company_name_list.append(i4.text)"
      ]
    },
    {
      "cell_type": "code",
      "source": [
        "company_name_2=[]"
      ],
      "metadata": {
        "id": "xzsNBDMgUdcQ"
      },
      "execution_count": 72,
      "outputs": []
    },
    {
      "cell_type": "code",
      "execution_count": 73,
      "metadata": {
        "id": "KIY5XlKDRU4y"
      },
      "outputs": [],
      "source": [
        "for item in company_name_list:\n",
        "  company_name_2.append(item.replace(\"\\n\",\"\"))"
      ]
    },
    {
      "cell_type": "code",
      "source": [
        "import pandas as pd"
      ],
      "metadata": {
        "id": "z4TjMNpJUNVi"
      },
      "execution_count": 74,
      "outputs": []
    },
    {
      "cell_type": "code",
      "source": [
        "dic={\"Şirket İsimleri\":company_name_2}"
      ],
      "metadata": {
        "id": "caLP8wFSUn8c"
      },
      "execution_count": 75,
      "outputs": []
    },
    {
      "cell_type": "code",
      "source": [
        "df=pd.DataFrame(dic)"
      ],
      "metadata": {
        "id": "O7bxe2fkUtKb"
      },
      "execution_count": 77,
      "outputs": []
    },
    {
      "cell_type": "code",
      "source": [
        "df"
      ],
      "metadata": {
        "colab": {
          "base_uri": "https://localhost:8080/",
          "height": 1000
        },
        "id": "qAqY9qHiUviL",
        "outputId": "4b80e4b7-3357-41f1-b8e6-8a76081d3521"
      },
      "execution_count": 78,
      "outputs": [
        {
          "output_type": "execute_result",
          "data": {
            "text/plain": [
              "                                      Şirket İsimleri\n",
              "0                     MUTLU MAKINA SAN. TIC. LTD.    \n",
              "1                                      LEDAPHARMA    \n",
              "2                    FARMABANK PHARMACEUTICAL LTD    \n",
              "3                   OZAY PHARMACEUTICALS CO. LTD.    \n",
              "4         PHARMATURCA PHARMACEUTICAL WAREHOUSE EXP...\n",
              "5                                   GENCLER CANTA    \n",
              "6                           HEKIM PHARMACEUTICALS    \n",
              "7         PHARMASENT ILAC VE MEDIKAL DIS TIC LTD S...\n",
              "8                                   7KKIMYAVEILAC    \n",
              "9                                          UNOPEX    \n",
              "10                                     SANLI ILAC    \n",
              "11                                 AZAMED MEDICAL    \n",
              "12                  KROM PHARMACEUTICAL WAREHOUSE    \n",
              "13                           PATRIARCH CONSULTING    \n",
              "14                                   ELMAS PHARMA    \n",
              "15                                   KUZEY PHARMA    \n",
              "16         KAREKS IMPORT EXPORT & TRADING CO.LTD.    \n",
              "17        ELIS ECZA DEPOSU (PHARMACEUTICAL WHOLESA...\n",
              "18            GENEL CONSULTANCY AND TRADE COMPANY    \n",
              "19                 BIBAK DIS TICARET VE PAZARLAMA    \n",
              "20               MARIN PRINTING&PACKACING COMPANY    \n",
              "21                                     PHARMATURC    \n",
              "22          INCPHARMA ILAC SAN. VE TIC. LTD. STI.    \n",
              "23                                    RESA PHARMA    \n",
              "24                                    GAMA PHARMA    \n",
              "25                         FARMASOL TIBBI URUNLER    \n",
              "26                  GEMAK FOOD INDUSTRY MACHINERY    \n",
              "27                  FENIKS PHARMACEUTICAL COMPANY    \n",
              "28                            LENTA TRADE COMPANY    \n",
              "29                                     MEDIAN-LTD    \n",
              "30                                     PHARMAGORA    \n",
              "31                                         CEMASK    \n",
              "32                                 VUNARI ORGANIK    \n",
              "33                    GULFARMA PHARMACEUTICAL LTD    \n",
              "34                                   ENDOFAR ILAC    \n",
              "35                       FARMALISA HEALTHCARE CO.    \n",
              "36              ALIBABA PHARMACEUTICALS WAREHOUSE    \n",
              "37                       KALE KIMYA SAN VE TIC AS    \n",
              "38                                   BELGA SAGLIK    \n",
              "39                                         FLOMAK    \n",
              "40        SIMA PHARMACEUTICAL WAREHOUSE AND FOREIG...\n",
              "41                                  SILVER PHARMA    \n",
              "42           PHARMA TURC PHARMACEUTICAL WAREHOUSE    \n",
              "43                                     DELTAFARMA    \n",
              "44             PHARMATEK PHARMACEUTICAL WAREHOUSE    \n",
              "45        BULUT ECZA DEPOSU MEDIKAL VE KOZMETIK SA...\n",
              "46                                  AFAMYA PHARMA    \n",
              "47                        VIZYON PHARMA WAREHOUSE    \n",
              "48                         BULUT PHARMA WAREHOUSE    \n",
              "49                                         FARGEN    \n",
              "50                                    ALZAMINILAC    \n",
              "51                         EKIP PHARMA WHOLESALER    "
            ],
            "text/html": [
              "\n",
              "  <div id=\"df-58e7f8aa-c522-4fcd-92a4-23c589addbc2\">\n",
              "    <div class=\"colab-df-container\">\n",
              "      <div>\n",
              "<style scoped>\n",
              "    .dataframe tbody tr th:only-of-type {\n",
              "        vertical-align: middle;\n",
              "    }\n",
              "\n",
              "    .dataframe tbody tr th {\n",
              "        vertical-align: top;\n",
              "    }\n",
              "\n",
              "    .dataframe thead th {\n",
              "        text-align: right;\n",
              "    }\n",
              "</style>\n",
              "<table border=\"1\" class=\"dataframe\">\n",
              "  <thead>\n",
              "    <tr style=\"text-align: right;\">\n",
              "      <th></th>\n",
              "      <th>Şirket İsimleri</th>\n",
              "    </tr>\n",
              "  </thead>\n",
              "  <tbody>\n",
              "    <tr>\n",
              "      <th>0</th>\n",
              "      <td>MUTLU MAKINA SAN. TIC. LTD.</td>\n",
              "    </tr>\n",
              "    <tr>\n",
              "      <th>1</th>\n",
              "      <td>LEDAPHARMA</td>\n",
              "    </tr>\n",
              "    <tr>\n",
              "      <th>2</th>\n",
              "      <td>FARMABANK PHARMACEUTICAL LTD</td>\n",
              "    </tr>\n",
              "    <tr>\n",
              "      <th>3</th>\n",
              "      <td>OZAY PHARMACEUTICALS CO. LTD.</td>\n",
              "    </tr>\n",
              "    <tr>\n",
              "      <th>4</th>\n",
              "      <td>PHARMATURCA PHARMACEUTICAL WAREHOUSE EXP...</td>\n",
              "    </tr>\n",
              "    <tr>\n",
              "      <th>5</th>\n",
              "      <td>GENCLER CANTA</td>\n",
              "    </tr>\n",
              "    <tr>\n",
              "      <th>6</th>\n",
              "      <td>HEKIM PHARMACEUTICALS</td>\n",
              "    </tr>\n",
              "    <tr>\n",
              "      <th>7</th>\n",
              "      <td>PHARMASENT ILAC VE MEDIKAL DIS TIC LTD S...</td>\n",
              "    </tr>\n",
              "    <tr>\n",
              "      <th>8</th>\n",
              "      <td>7KKIMYAVEILAC</td>\n",
              "    </tr>\n",
              "    <tr>\n",
              "      <th>9</th>\n",
              "      <td>UNOPEX</td>\n",
              "    </tr>\n",
              "    <tr>\n",
              "      <th>10</th>\n",
              "      <td>SANLI ILAC</td>\n",
              "    </tr>\n",
              "    <tr>\n",
              "      <th>11</th>\n",
              "      <td>AZAMED MEDICAL</td>\n",
              "    </tr>\n",
              "    <tr>\n",
              "      <th>12</th>\n",
              "      <td>KROM PHARMACEUTICAL WAREHOUSE</td>\n",
              "    </tr>\n",
              "    <tr>\n",
              "      <th>13</th>\n",
              "      <td>PATRIARCH CONSULTING</td>\n",
              "    </tr>\n",
              "    <tr>\n",
              "      <th>14</th>\n",
              "      <td>ELMAS PHARMA</td>\n",
              "    </tr>\n",
              "    <tr>\n",
              "      <th>15</th>\n",
              "      <td>KUZEY PHARMA</td>\n",
              "    </tr>\n",
              "    <tr>\n",
              "      <th>16</th>\n",
              "      <td>KAREKS IMPORT EXPORT &amp; TRADING CO.LTD.</td>\n",
              "    </tr>\n",
              "    <tr>\n",
              "      <th>17</th>\n",
              "      <td>ELIS ECZA DEPOSU (PHARMACEUTICAL WHOLESA...</td>\n",
              "    </tr>\n",
              "    <tr>\n",
              "      <th>18</th>\n",
              "      <td>GENEL CONSULTANCY AND TRADE COMPANY</td>\n",
              "    </tr>\n",
              "    <tr>\n",
              "      <th>19</th>\n",
              "      <td>BIBAK DIS TICARET VE PAZARLAMA</td>\n",
              "    </tr>\n",
              "    <tr>\n",
              "      <th>20</th>\n",
              "      <td>MARIN PRINTING&amp;PACKACING COMPANY</td>\n",
              "    </tr>\n",
              "    <tr>\n",
              "      <th>21</th>\n",
              "      <td>PHARMATURC</td>\n",
              "    </tr>\n",
              "    <tr>\n",
              "      <th>22</th>\n",
              "      <td>INCPHARMA ILAC SAN. VE TIC. LTD. STI.</td>\n",
              "    </tr>\n",
              "    <tr>\n",
              "      <th>23</th>\n",
              "      <td>RESA PHARMA</td>\n",
              "    </tr>\n",
              "    <tr>\n",
              "      <th>24</th>\n",
              "      <td>GAMA PHARMA</td>\n",
              "    </tr>\n",
              "    <tr>\n",
              "      <th>25</th>\n",
              "      <td>FARMASOL TIBBI URUNLER</td>\n",
              "    </tr>\n",
              "    <tr>\n",
              "      <th>26</th>\n",
              "      <td>GEMAK FOOD INDUSTRY MACHINERY</td>\n",
              "    </tr>\n",
              "    <tr>\n",
              "      <th>27</th>\n",
              "      <td>FENIKS PHARMACEUTICAL COMPANY</td>\n",
              "    </tr>\n",
              "    <tr>\n",
              "      <th>28</th>\n",
              "      <td>LENTA TRADE COMPANY</td>\n",
              "    </tr>\n",
              "    <tr>\n",
              "      <th>29</th>\n",
              "      <td>MEDIAN-LTD</td>\n",
              "    </tr>\n",
              "    <tr>\n",
              "      <th>30</th>\n",
              "      <td>PHARMAGORA</td>\n",
              "    </tr>\n",
              "    <tr>\n",
              "      <th>31</th>\n",
              "      <td>CEMASK</td>\n",
              "    </tr>\n",
              "    <tr>\n",
              "      <th>32</th>\n",
              "      <td>VUNARI ORGANIK</td>\n",
              "    </tr>\n",
              "    <tr>\n",
              "      <th>33</th>\n",
              "      <td>GULFARMA PHARMACEUTICAL LTD</td>\n",
              "    </tr>\n",
              "    <tr>\n",
              "      <th>34</th>\n",
              "      <td>ENDOFAR ILAC</td>\n",
              "    </tr>\n",
              "    <tr>\n",
              "      <th>35</th>\n",
              "      <td>FARMALISA HEALTHCARE CO.</td>\n",
              "    </tr>\n",
              "    <tr>\n",
              "      <th>36</th>\n",
              "      <td>ALIBABA PHARMACEUTICALS WAREHOUSE</td>\n",
              "    </tr>\n",
              "    <tr>\n",
              "      <th>37</th>\n",
              "      <td>KALE KIMYA SAN VE TIC AS</td>\n",
              "    </tr>\n",
              "    <tr>\n",
              "      <th>38</th>\n",
              "      <td>BELGA SAGLIK</td>\n",
              "    </tr>\n",
              "    <tr>\n",
              "      <th>39</th>\n",
              "      <td>FLOMAK</td>\n",
              "    </tr>\n",
              "    <tr>\n",
              "      <th>40</th>\n",
              "      <td>SIMA PHARMACEUTICAL WAREHOUSE AND FOREIG...</td>\n",
              "    </tr>\n",
              "    <tr>\n",
              "      <th>41</th>\n",
              "      <td>SILVER PHARMA</td>\n",
              "    </tr>\n",
              "    <tr>\n",
              "      <th>42</th>\n",
              "      <td>PHARMA TURC PHARMACEUTICAL WAREHOUSE</td>\n",
              "    </tr>\n",
              "    <tr>\n",
              "      <th>43</th>\n",
              "      <td>DELTAFARMA</td>\n",
              "    </tr>\n",
              "    <tr>\n",
              "      <th>44</th>\n",
              "      <td>PHARMATEK PHARMACEUTICAL WAREHOUSE</td>\n",
              "    </tr>\n",
              "    <tr>\n",
              "      <th>45</th>\n",
              "      <td>BULUT ECZA DEPOSU MEDIKAL VE KOZMETIK SA...</td>\n",
              "    </tr>\n",
              "    <tr>\n",
              "      <th>46</th>\n",
              "      <td>AFAMYA PHARMA</td>\n",
              "    </tr>\n",
              "    <tr>\n",
              "      <th>47</th>\n",
              "      <td>VIZYON PHARMA WAREHOUSE</td>\n",
              "    </tr>\n",
              "    <tr>\n",
              "      <th>48</th>\n",
              "      <td>BULUT PHARMA WAREHOUSE</td>\n",
              "    </tr>\n",
              "    <tr>\n",
              "      <th>49</th>\n",
              "      <td>FARGEN</td>\n",
              "    </tr>\n",
              "    <tr>\n",
              "      <th>50</th>\n",
              "      <td>ALZAMINILAC</td>\n",
              "    </tr>\n",
              "    <tr>\n",
              "      <th>51</th>\n",
              "      <td>EKIP PHARMA WHOLESALER</td>\n",
              "    </tr>\n",
              "  </tbody>\n",
              "</table>\n",
              "</div>\n",
              "      <button class=\"colab-df-convert\" onclick=\"convertToInteractive('df-58e7f8aa-c522-4fcd-92a4-23c589addbc2')\"\n",
              "              title=\"Convert this dataframe to an interactive table.\"\n",
              "              style=\"display:none;\">\n",
              "        \n",
              "  <svg xmlns=\"http://www.w3.org/2000/svg\" height=\"24px\"viewBox=\"0 0 24 24\"\n",
              "       width=\"24px\">\n",
              "    <path d=\"M0 0h24v24H0V0z\" fill=\"none\"/>\n",
              "    <path d=\"M18.56 5.44l.94 2.06.94-2.06 2.06-.94-2.06-.94-.94-2.06-.94 2.06-2.06.94zm-11 1L8.5 8.5l.94-2.06 2.06-.94-2.06-.94L8.5 2.5l-.94 2.06-2.06.94zm10 10l.94 2.06.94-2.06 2.06-.94-2.06-.94-.94-2.06-.94 2.06-2.06.94z\"/><path d=\"M17.41 7.96l-1.37-1.37c-.4-.4-.92-.59-1.43-.59-.52 0-1.04.2-1.43.59L10.3 9.45l-7.72 7.72c-.78.78-.78 2.05 0 2.83L4 21.41c.39.39.9.59 1.41.59.51 0 1.02-.2 1.41-.59l7.78-7.78 2.81-2.81c.8-.78.8-2.07 0-2.86zM5.41 20L4 18.59l7.72-7.72 1.47 1.35L5.41 20z\"/>\n",
              "  </svg>\n",
              "      </button>\n",
              "      \n",
              "  <style>\n",
              "    .colab-df-container {\n",
              "      display:flex;\n",
              "      flex-wrap:wrap;\n",
              "      gap: 12px;\n",
              "    }\n",
              "\n",
              "    .colab-df-convert {\n",
              "      background-color: #E8F0FE;\n",
              "      border: none;\n",
              "      border-radius: 50%;\n",
              "      cursor: pointer;\n",
              "      display: none;\n",
              "      fill: #1967D2;\n",
              "      height: 32px;\n",
              "      padding: 0 0 0 0;\n",
              "      width: 32px;\n",
              "    }\n",
              "\n",
              "    .colab-df-convert:hover {\n",
              "      background-color: #E2EBFA;\n",
              "      box-shadow: 0px 1px 2px rgba(60, 64, 67, 0.3), 0px 1px 3px 1px rgba(60, 64, 67, 0.15);\n",
              "      fill: #174EA6;\n",
              "    }\n",
              "\n",
              "    [theme=dark] .colab-df-convert {\n",
              "      background-color: #3B4455;\n",
              "      fill: #D2E3FC;\n",
              "    }\n",
              "\n",
              "    [theme=dark] .colab-df-convert:hover {\n",
              "      background-color: #434B5C;\n",
              "      box-shadow: 0px 1px 3px 1px rgba(0, 0, 0, 0.15);\n",
              "      filter: drop-shadow(0px 1px 2px rgba(0, 0, 0, 0.3));\n",
              "      fill: #FFFFFF;\n",
              "    }\n",
              "  </style>\n",
              "\n",
              "      <script>\n",
              "        const buttonEl =\n",
              "          document.querySelector('#df-58e7f8aa-c522-4fcd-92a4-23c589addbc2 button.colab-df-convert');\n",
              "        buttonEl.style.display =\n",
              "          google.colab.kernel.accessAllowed ? 'block' : 'none';\n",
              "\n",
              "        async function convertToInteractive(key) {\n",
              "          const element = document.querySelector('#df-58e7f8aa-c522-4fcd-92a4-23c589addbc2');\n",
              "          const dataTable =\n",
              "            await google.colab.kernel.invokeFunction('convertToInteractive',\n",
              "                                                     [key], {});\n",
              "          if (!dataTable) return;\n",
              "\n",
              "          const docLinkHtml = 'Like what you see? Visit the ' +\n",
              "            '<a target=\"_blank\" href=https://colab.research.google.com/notebooks/data_table.ipynb>data table notebook</a>'\n",
              "            + ' to learn more about interactive tables.';\n",
              "          element.innerHTML = '';\n",
              "          dataTable['output_type'] = 'display_data';\n",
              "          await google.colab.output.renderOutput(dataTable, element);\n",
              "          const docLink = document.createElement('div');\n",
              "          docLink.innerHTML = docLinkHtml;\n",
              "          element.appendChild(docLink);\n",
              "        }\n",
              "      </script>\n",
              "    </div>\n",
              "  </div>\n",
              "  "
            ]
          },
          "metadata": {},
          "execution_count": 78
        }
      ]
    },
    {
      "cell_type": "code",
      "source": [
        "df.to_excel(\"SirketIsımleri.xlsx\")"
      ],
      "metadata": {
        "id": "32NjgcvEUygB"
      },
      "execution_count": 79,
      "outputs": []
    },
    {
      "cell_type": "code",
      "source": [
        "pd.read_excel(\"SirketIsımleri.xlsx\")"
      ],
      "metadata": {
        "id": "v_zJDpWTU7ab"
      },
      "execution_count": null,
      "outputs": []
    }
  ],
  "metadata": {
    "colab": {
      "provenance": []
    },
    "kernelspec": {
      "display_name": "Python 3",
      "name": "python3"
    },
    "language_info": {
      "name": "python"
    }
  },
  "nbformat": 4,
  "nbformat_minor": 0
}