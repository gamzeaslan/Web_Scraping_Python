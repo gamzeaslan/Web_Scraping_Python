{
  "nbformat": 4,
  "nbformat_minor": 0,
  "metadata": {
    "colab": {
      "provenance": []
    },
    "kernelspec": {
      "name": "python3",
      "display_name": "Python 3"
    },
    "language_info": {
      "name": "python"
    }
  },
  "cells": [
    {
      "cell_type": "code",
      "execution_count": null,
      "metadata": {
        "id": "e7_Be7XhpHul"
      },
      "outputs": [],
      "source": [
        "from bs4 import BeautifulSoup\n",
        "import requests"
      ]
    },
    {
      "cell_type": "code",
      "source": [
        "response=requests.get(\"https://www.imdb.com/chart/top/?ref_=nv_mv_250\")"
      ],
      "metadata": {
        "id": "okvUE1DMpNMF"
      },
      "execution_count": null,
      "outputs": []
    },
    {
      "cell_type": "code",
      "source": [
        "print(response)#sucessful connection"
      ],
      "metadata": {
        "colab": {
          "base_uri": "https://localhost:8080/"
        },
        "id": "ZRQZHS-QpoQp",
        "outputId": "742dac1a-366c-4e43-b48b-059a8ed47de5"
      },
      "execution_count": null,
      "outputs": [
        {
          "output_type": "stream",
          "name": "stdout",
          "text": [
            "<Response [200]>\n"
          ]
        }
      ]
    },
    {
      "cell_type": "code",
      "source": [
        "content=response.content"
      ],
      "metadata": {
        "id": "fgiNsEVVpxtg"
      },
      "execution_count": null,
      "outputs": []
    },
    {
      "cell_type": "code",
      "source": [
        "soup=BeautifulSoup(content,\"html.parser\")"
      ],
      "metadata": {
        "id": "QIZZ9mJqpSq-"
      },
      "execution_count": null,
      "outputs": []
    },
    {
      "cell_type": "code",
      "source": [
        "# print(soup.prettify())"
      ],
      "metadata": {
        "id": "GrZkQDYlpjmp"
      },
      "execution_count": null,
      "outputs": []
    },
    {
      "cell_type": "code",
      "source": [
        "#create empty list\n",
        "#for dataframe\n",
        "movie_name_list=[]\n",
        "movie_year_list=[]\n",
        "movie_rating_list=[]"
      ],
      "metadata": {
        "id": "3F0bl7BJp4cG"
      },
      "execution_count": null,
      "outputs": []
    },
    {
      "cell_type": "code",
      "source": [
        "#get movie name ,movie year and movie rating\n",
        "tbody=soup.find(\"tbody\",{\"class\":{\"lister-list\"}}).find_all(\"tr\")\n",
        "\n",
        "#tr to list\n",
        "for tr in tbody:\n",
        "  movie_name=tr.find(\"td\",{\"class\":\"titleColumn\"}).find(\"a\").text\n",
        "  movie_year=tr.find(\"td\",{\"class\":\"titleColumn\"}).find(\"span\").text.strip(\"()\")\n",
        "  movie_rating=tr.find(\"td\",{\"class\":\"ratingColumn imdbRating\"}).find(\"strong\").text\n",
        "  movie_name_list.append(movie_name)\n",
        "  movie_year_list.append(movie_year)\n",
        "  movie_rating_list.append(movie_rating)\n",
        "  "
      ],
      "metadata": {
        "id": "zbrkBAo4qEgg"
      },
      "execution_count": null,
      "outputs": []
    },
    {
      "cell_type": "code",
      "source": [
        "print(movie_name_list)\n",
        "print(movie_year_list)\n",
        "print(movie_rating_list)"
      ],
      "metadata": {
        "colab": {
          "base_uri": "https://localhost:8080/"
        },
        "id": "n48xM6BIrLF8",
        "outputId": "7725f3ca-a185-47f3-8717-edbde29840fc"
      },
      "execution_count": null,
      "outputs": [
        {
          "output_type": "stream",
          "name": "stdout",
          "text": [
            "['The Shawshank Redemption', 'The Godfather', 'The Dark Knight', 'The Godfather Part II', '12 Angry Men', \"Schindler's List\", 'The Lord of the Rings: The Return of the King', 'Pulp Fiction', 'The Lord of the Rings: The Fellowship of the Ring', 'The Good, the Bad and the Ugly', 'Forrest Gump', 'Fight Club', 'The Lord of the Rings: The Two Towers', 'Inception', 'Star Wars: Episode V - The Empire Strikes Back', 'The Matrix', 'Goodfellas', \"One Flew Over the Cuckoo's Nest\", 'Se7en', 'Seven Samurai', \"It's a Wonderful Life\", 'The Silence of the Lambs', 'City of God', 'Saving Private Ryan', 'Life Is Beautiful', 'Interstellar', 'The Green Mile', 'Star Wars', 'Terminator 2: Judgment Day', 'Back to the Future', 'Spirited Away', 'Psycho', 'The Pianist', 'Parasite', 'Léon: The Professional', 'The Lion King', 'Gladiator', 'American History X', 'The Departed', 'The Usual Suspects', 'The Prestige', 'Whiplash', 'Casablanca', 'Harakiri', 'Grave of the Fireflies', 'The Intouchables', 'Modern Times', 'Once Upon a Time in the West', 'Rear Window', 'Cinema Paradiso', 'Alien', 'City Lights', 'Apocalypse Now', 'Memento', 'Raiders of the Lost Ark', 'Django Unchained', 'WALL·E', 'The Lives of Others', 'Sunset Blvd.', 'Paths of Glory', 'The Shining', 'The Great Dictator', 'Avengers: Infinity War', 'Witness for the Prosecution', 'Aliens', 'Spider-Man: Into the Spider-Verse', 'American Beauty', 'Dr. Strangelove or: How I Learned to Stop Worrying and Love the Bomb', 'The Dark Knight Rises', 'Oldboy', 'Amadeus', 'Inglourious Basterds', 'Joker', 'Coco', 'Toy Story', 'Braveheart', 'The Boat', 'Avengers: Endgame', 'Princess Mononoke', 'Once Upon a Time in America', 'Good Will Hunting', 'Your Name.', 'Top Gun: Maverick', 'Requiem for a Dream', '3 Idiots', \"Singin' in the Rain\", 'Toy Story 3', 'High and Low', 'Star Wars: Episode VI - Return of the Jedi', 'Capernaum', '2001: A Space Odyssey', 'Eternal Sunshine of the Spotless Mind', 'Reservoir Dogs', 'The Hunt', 'Come and See', 'Citizen Kane', 'M', 'Lawrence of Arabia', 'North by Northwest', 'Vertigo', 'Amélie', 'A Clockwork Orange', 'The Apartment', 'Ikiru', 'Double Indemnity', 'Full Metal Jacket', 'Hamilton', 'Scarface', 'To Kill a Mockingbird', 'The Sting', 'Incendies', 'Up', 'Heat', 'Taxi Driver', 'A Separation', 'Metropolis', 'L.A. Confidential', 'Die Hard', 'Snatch', 'Bicycle Thieves', 'Indiana Jones and the Last Crusade', 'Like Stars on Earth', '1917', 'Downfall', 'For a Few Dollars More', 'Dangal', 'Batman Begins', 'The Kid', 'Some Like It Hot', 'The Father', 'All About Eve', 'Green Book', 'The Wolf of Wall Street', 'Judgment at Nuremberg', 'Ran', 'Casino', \"Pan's Labyrinth\", 'Unforgiven', 'There Will Be Blood', 'The Truman Show', 'The Sixth Sense', 'A Beautiful Mind', 'Shutter Island', 'Yojimbo', 'Spider-Man: No Way Home', 'Monty Python and the Holy Grail', 'The Treasure of the Sierra Madre', 'Jurassic Park', 'The Great Escape', 'Rashomon', 'Kill Bill: Vol. 1', 'No Country for Old Men', 'Finding Nemo', 'The Thing', 'The Elephant Man', 'Chinatown', 'Raging Bull', 'Gone with the Wind', 'V for Vendetta', 'Inside Out', 'Lock, Stock and Two Smoking Barrels', 'Dial M for Murder', 'The Secret in Their Eyes', \"Howl's Moving Castle\", 'The Bridge on the River Kwai', 'Three Billboards Outside Ebbing, Missouri', 'Trainspotting', 'Warrior', 'Fargo', 'Gran Torino', 'Prisoners', 'My Neighbor Totoro', 'Catch Me If You Can', 'Million Dollar Baby', 'Children of Heaven', 'Blade Runner', 'The Gold Rush', 'On the Waterfront', 'Before Sunrise', '12 Years a Slave', 'Harry Potter and the Deathly Hallows: Part 2', 'Ben-Hur', 'Wild Strawberries', 'Gone Girl', 'The General', 'The Third Man', 'The Grand Budapest Hotel', 'The Deer Hunter', 'In the Name of the Father', 'Klaus', 'Barry Lyndon', 'The Wages of Fear', 'Hacksaw Ridge', 'Sherlock Jr.', 'Mr. Smith Goes to Washington', 'Memories of Murder', 'Wild Tales', 'The Seventh Seal', 'Mad Max: Fury Road', 'Room', 'Mary and Max', 'How to Train Your Dragon', 'Monsters, Inc.', 'The Big Lebowski', 'Jaws', 'Dead Poets Society', 'The Passion of Joan of Arc', 'Tokyo Story', 'Hotel Rwanda', 'Ford v Ferrari', 'Rocky', 'Platoon', 'Spotlight', 'The Terminator', 'Stand by Me', 'Logan', 'Ratatouille', 'Rush', 'Pather Panchali', 'Network', 'Into the Wild', 'The Wizard of Oz', 'Before Sunset', 'Groundhog Day', 'The Exorcist', 'The Best Years of Our Lives', 'The Incredibles', 'To Be or Not to Be', 'The Battle of Algiers', \"Hachi: A Dog's Tale\", 'La haine', 'Jai Bhim', 'Pirates of the Caribbean: The Curse of the Black Pearl', 'The Grapes of Wrath', 'My Father and My Son', 'Rebecca', 'Amores Perros', 'Cool Hand Luke', 'The 400 Blows', 'The Handmaiden', 'It Happened One Night', 'Persona', 'The Sound of Music', 'Life of Brian', 'Everything Everywhere All at Once', 'Dersu Uzala', 'Aladdin', 'The Iron Giant', 'The Help', 'Gandhi']\n",
            "['1994', '1972', '2008', '1974', '1957', '1993', '2003', '1994', '2001', '1966', '1994', '1999', '2002', '2010', '1980', '1999', '1990', '1975', '1995', '1954', '1946', '1991', '2002', '1998', '1997', '2014', '1999', '1977', '1991', '1985', '2001', '1960', '2002', '2019', '1994', '1994', '2000', '1998', '2006', '1995', '2006', '2014', '1942', '1962', '1988', '2011', '1936', '1968', '1954', '1988', '1979', '1931', '1979', '2000', '1981', '2012', '2008', '2006', '1950', '1957', '1980', '1940', '2018', '1957', '1986', '2018', '1999', '1964', '2012', '2003', '1984', '2009', '2019', '2017', '1995', '1995', '1981', '2019', '1997', '1984', '1997', '2016', '2022', '2000', '2009', '1952', '2010', '1963', '1983', '2018', '1968', '2004', '1992', '2012', '1985', '1941', '1931', '1962', '1959', '1958', '2001', '1971', '1960', '1952', '1944', '1987', '2020', '1983', '1962', '1973', '2010', '2009', '1995', '1976', '2011', '1927', '1997', '1988', '2000', '1948', '1989', '2007', '2019', '2004', '1965', '2016', '2005', '1921', '1959', '2020', '1950', '2018', '2013', '1961', '1985', '1995', '2006', '1992', '2007', '1998', '1999', '2001', '2010', '1961', '2021', '1975', '1948', '1993', '1963', '1950', '2003', '2007', '2003', '1982', '1980', '1974', '1980', '1939', '2005', '2015', '1998', '1954', '2009', '2004', '1957', '2017', '1996', '2011', '1996', '2008', '2013', '1988', '2002', '2004', '1997', '1982', '1925', '1954', '1995', '2013', '2011', '1959', '1957', '2014', '1926', '1949', '2014', '1978', '1993', '2019', '1975', '1953', '2016', '1924', '1939', '2003', '2014', '1957', '2015', '2015', '2009', '2010', '2001', '1998', '1975', '1989', '1928', '1953', '2004', '2019', '1976', '1986', '2015', '1984', '1986', '2017', '2007', '2013', '1955', '1976', '2007', '1939', '2004', '1993', '1973', '1946', '2004', '1942', '1966', '2009', '1995', '2021', '2003', '1940', '2005', '1940', '2000', '1967', '1959', '2016', '1934', '1966', '1965', '1979', '2022', '1975', '1992', '1999', '2011', '1982']\n",
            "['9.2', '9.2', '9.0', '9.0', '9.0', '8.9', '8.9', '8.8', '8.8', '8.8', '8.8', '8.7', '8.7', '8.7', '8.7', '8.7', '8.7', '8.6', '8.6', '8.6', '8.6', '8.6', '8.6', '8.6', '8.6', '8.6', '8.6', '8.6', '8.5', '8.5', '8.5', '8.5', '8.5', '8.5', '8.5', '8.5', '8.5', '8.5', '8.5', '8.5', '8.5', '8.5', '8.5', '8.5', '8.5', '8.5', '8.4', '8.4', '8.4', '8.4', '8.4', '8.4', '8.4', '8.4', '8.4', '8.4', '8.4', '8.4', '8.4', '8.4', '8.4', '8.4', '8.4', '8.4', '8.3', '8.3', '8.3', '8.3', '8.3', '8.3', '8.3', '8.3', '8.3', '8.3', '8.3', '8.3', '8.3', '8.3', '8.3', '8.3', '8.3', '8.3', '8.3', '8.3', '8.3', '8.3', '8.3', '8.3', '8.3', '8.3', '8.3', '8.3', '8.3', '8.3', '8.3', '8.3', '8.3', '8.3', '8.2', '8.2', '8.2', '8.2', '8.2', '8.2', '8.2', '8.2', '8.2', '8.2', '8.2', '8.2', '8.2', '8.2', '8.2', '8.2', '8.2', '8.2', '8.2', '8.2', '8.2', '8.2', '8.2', '8.2', '8.2', '8.2', '8.2', '8.2', '8.2', '8.2', '8.2', '8.2', '8.2', '8.2', '8.2', '8.2', '8.2', '8.2', '8.2', '8.2', '8.2', '8.2', '8.2', '8.2', '8.1', '8.1', '8.1', '8.1', '8.1', '8.1', '8.1', '8.1', '8.1', '8.1', '8.1', '8.1', '8.1', '8.1', '8.1', '8.1', '8.1', '8.1', '8.1', '8.1', '8.1', '8.1', '8.1', '8.1', '8.1', '8.1', '8.1', '8.1', '8.1', '8.1', '8.1', '8.1', '8.1', '8.1', '8.1', '8.1', '8.1', '8.1', '8.1', '8.1', '8.1', '8.1', '8.1', '8.1', '8.1', '8.1', '8.1', '8.1', '8.1', '8.1', '8.1', '8.1', '8.1', '8.1', '8.1', '8.1', '8.1', '8.1', '8.1', '8.1', '8.1', '8.1', '8.1', '8.1', '8.1', '8.1', '8.1', '8.0', '8.0', '8.0', '8.0', '8.0', '8.0', '8.0', '8.0', '8.0', '8.0', '8.0', '8.0', '8.0', '8.0', '8.0', '8.0', '8.0', '8.0', '8.0', '8.0', '8.0', '8.0', '8.0', '8.0', '8.0', '8.0', '8.0', '8.0', '8.0', '8.0', '8.0', '8.0', '8.0', '8.0', '8.0', '8.0', '8.0', '8.0', '8.0', '8.0', '8.0']\n"
          ]
        }
      ]
    },
    {
      "cell_type": "code",
      "source": [
        "import numpy as np\n",
        "import pandas as pd"
      ],
      "metadata": {
        "id": "yjukwyFcr-mt"
      },
      "execution_count": null,
      "outputs": []
    },
    {
      "cell_type": "code",
      "source": [
        "movies_dic={\"MovieName\":movie_name_list,\n",
        "            \"MovieYear\":movie_year_list,\n",
        "            \"MovieRating\":movie_rating_list}"
      ],
      "metadata": {
        "id": "_3HL4CAevjPy"
      },
      "execution_count": null,
      "outputs": []
    },
    {
      "cell_type": "code",
      "source": [
        "df=pd.DataFrame(movies_dic)"
      ],
      "metadata": {
        "id": "NPg8JTvawTBF"
      },
      "execution_count": null,
      "outputs": []
    },
    {
      "cell_type": "code",
      "source": [
        "print(df)"
      ],
      "metadata": {
        "colab": {
          "base_uri": "https://localhost:8080/"
        },
        "id": "uy_249EwwWVa",
        "outputId": "1d6bce76-c54d-47e6-9331-79b7a21537c9"
      },
      "execution_count": null,
      "outputs": [
        {
          "output_type": "stream",
          "name": "stdout",
          "text": [
            "                    MovieName MovieYear MovieRating\n",
            "0    The Shawshank Redemption      1994         9.2\n",
            "1               The Godfather      1972         9.2\n",
            "2             The Dark Knight      2008         9.0\n",
            "3       The Godfather Part II      1974         9.0\n",
            "4                12 Angry Men      1957         9.0\n",
            "..                        ...       ...         ...\n",
            "245               Dersu Uzala      1975         8.0\n",
            "246                   Aladdin      1992         8.0\n",
            "247            The Iron Giant      1999         8.0\n",
            "248                  The Help      2011         8.0\n",
            "249                    Gandhi      1982         8.0\n",
            "\n",
            "[250 rows x 3 columns]\n"
          ]
        }
      ]
    },
    {
      "cell_type": "code",
      "source": [],
      "metadata": {
        "id": "Qgv3Ao5-wa4-"
      },
      "execution_count": null,
      "outputs": []
    }
  ]
}