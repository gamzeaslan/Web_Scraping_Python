{
  "nbformat": 4,
  "nbformat_minor": 0,
  "metadata": {
    "colab": {
      "provenance": []
    },
    "kernelspec": {
      "name": "python3",
      "display_name": "Python 3"
    },
    "language_info": {
      "name": "python"
    }
  },
  "cells": [
    {
      "cell_type": "code",
      "source": [
        "import requests\n",
        "from bs4 import BeautifulSoup"
      ],
      "metadata": {
        "id": "N9WJX9bQ4CRF"
      },
      "execution_count": 68,
      "outputs": []
    },
    {
      "cell_type": "code",
      "source": [
        "url=\"https://www.hepsiburada.com/kadin-parfumler-c-32010684\""
      ],
      "metadata": {
        "id": "2D9g3fUJ56Jx"
      },
      "execution_count": 69,
      "outputs": []
    },
    {
      "cell_type": "code",
      "source": [
        "header={\"user-agent\":\"Mozilla/5.0 (Windows NT 10.0; Win64; x64) AppleWebKit/537.36 (KHTML, like Gecko) Chrome/108.0.0.0 Safari/537.36\"}\n",
        "response=requests.get(url,headers=header)"
      ],
      "metadata": {
        "id": "VXK-ABHW5_a3"
      },
      "execution_count": 70,
      "outputs": []
    },
    {
      "cell_type": "code",
      "source": [
        "print(response)#sucessful connection"
      ],
      "metadata": {
        "colab": {
          "base_uri": "https://localhost:8080/"
        },
        "id": "BzcKjHLS6BkH",
        "outputId": "04c182fd-dd17-4cb4-d586-799f2667e1ca"
      },
      "execution_count": 71,
      "outputs": [
        {
          "output_type": "stream",
          "name": "stdout",
          "text": [
            "<Response [200]>\n"
          ]
        }
      ]
    },
    {
      "cell_type": "code",
      "source": [
        "soup=BeautifulSoup(response.content,\"html.parser\")"
      ],
      "metadata": {
        "id": "JHCxsSJU6DDY"
      },
      "execution_count": 72,
      "outputs": []
    },
    {
      "cell_type": "code",
      "source": [
        "s_r=soup.find(\"div\",{\"class\":\"productListContent-pXUkO4iHa51o_17CBibU\"}).find(\"ul\")"
      ],
      "metadata": {
        "id": "L1W_zlg669CZ"
      },
      "execution_count": 73,
      "outputs": []
    },
    {
      "cell_type": "code",
      "source": [
        "url_list=[]\n",
        "for item in s_r:\n",
        "  try:\n",
        "    url=\"https://www.hepsiburada.com\"+item.find(\"a\").get(\"href\")\n",
        "    url_list.append(url)\n",
        "  except:\n",
        "    print(\"--------\")\n",
        "  "
      ],
      "metadata": {
        "colab": {
          "base_uri": "https://localhost:8080/"
        },
        "id": "tRkYJS-p7RS5",
        "outputId": "04194305-22f3-4a26-fb15-92d010c02388"
      },
      "execution_count": 74,
      "outputs": [
        {
          "output_type": "stream",
          "name": "stdout",
          "text": [
            "--------\n"
          ]
        }
      ]
    },
    {
      "cell_type": "code",
      "source": [
        "product_name=[]\n",
        "product_price=[]"
      ],
      "metadata": {
        "id": "iU6RIEE1AkEb"
      },
      "execution_count": 75,
      "outputs": []
    },
    {
      "cell_type": "code",
      "source": [
        "header={\"user-agent\":\"Mozilla/5.0 (Windows NT 10.0; Win64; x64) AppleWebKit/537.36 (KHTML, like Gecko) Chrome/108.0.0.0 Safari/537.36\"}\n",
        "for item in url_list:\n",
        "  response=requests.get(item,headers=header)\n",
        "  soup=BeautifulSoup(response.content,\"html.parser\")\n",
        "  s_r=soup.find(\"div\",{\"class\":\"product-price-wrapper\"})\n",
        "  price=s_r.find(\"del\",{\"class\":\"price-old\"}).text\n",
        "  product_price.append(price)\n",
        "  s_r_2=soup.find(\"header\",{\"class\":\"title-wrapper\"})\n",
        "  name=s_r_2.text.strip(\"\\n\")\n",
        "  product_name.append(name)"
      ],
      "metadata": {
        "id": "9jdep0K57Unx"
      },
      "execution_count": 76,
      "outputs": []
    },
    {
      "cell_type": "code",
      "source": [
        "print(len(product_name),len(product_price))"
      ],
      "metadata": {
        "colab": {
          "base_uri": "https://localhost:8080/"
        },
        "id": "qPVx1_r89LPw",
        "outputId": "3fb41ea6-da27-410d-df50-5175964072f8"
      },
      "execution_count": 77,
      "outputs": [
        {
          "output_type": "stream",
          "name": "stdout",
          "text": [
            "24 24\n"
          ]
        }
      ]
    },
    {
      "cell_type": "code",
      "source": [
        "import pandas as pd"
      ],
      "metadata": {
        "id": "nZSftze3A-YZ"
      },
      "execution_count": 78,
      "outputs": []
    },
    {
      "cell_type": "code",
      "source": [
        "dic={\"Name\":product_name,\n",
        "     \"Price\":product_price}"
      ],
      "metadata": {
        "id": "HPgu9LdmBKSw"
      },
      "execution_count": 79,
      "outputs": []
    },
    {
      "cell_type": "code",
      "source": [
        "df=pd.DataFrame(dic)"
      ],
      "metadata": {
        "id": "Wz510IcCBP83"
      },
      "execution_count": 80,
      "outputs": []
    },
    {
      "cell_type": "code",
      "source": [
        "print(df)"
      ],
      "metadata": {
        "colab": {
          "base_uri": "https://localhost:8080/"
        },
        "id": "p6LXtkhwBViJ",
        "outputId": "a1a3cf71-e7fd-4489-a6c3-eaaea5313535"
      },
      "execution_count": 81,
      "outputs": [
        {
          "output_type": "stream",
          "name": "stdout",
          "text": [
            "                                                 Name      Price\n",
            "0   Emotion Ocean Fresh EDT Kadın Parfüm 50 ml & D...  152,17 TL\n",
            "1   Emotion Romance EDT Kadın Parfüm 50 ml & Deodo...  152,17 TL\n",
            "2   Bargello 254 Floral Bayan 50 Ml + Bargello Fle...  255,00 TL\n",
            "3              D&p Perfumum G2 Erkek Parfüm Edp 50 ml  120,00 TL\n",
            "4       Calvin Klein Euphoria EDP 100 ml Kadın Parfüm  824,90 TL\n",
            "5           Calvin Klein One Edt 200 ml Unisex Parfüm  419,90 TL\n",
            "6        Avon Celebre ve Pur Blanca Kadın Parfüm Seti  139,90 TL\n",
            "7            Avon Wish Of Love Edt 50 Ml Kadın Parfüm   52,90 TL\n",
            "8    Avon Far Away Splendoria Kadın Parfüm Edp 10 Ml.   29,90 TL\n",
            "9                  Avon Pur Blanca 50 Ml Kadın Parfüm   66,90 TL\n",
            "10  Poni Secret Bayan Parfüm Edt For Women Kalıcı ...   59,99 TL\n",
            "11                  faberlic Marselle Kadın Edp 50 ml  160,90 TL\n",
            "12  Avon Wish Of Love Edt 50 Ml Kadın 2'li Parfüm Set   95,90 TL\n",
            "13  Royal Club de Polo Barcelona Rosado 50 ml EDP ...  205,90 TL\n",
            "14              Privacy Woman EDT Kadın Parfüm 100 ml  133,27 TL\n",
            "15                        Poni Dream Kadın Parfüm Edt   59,99 TL\n",
            "16               Avon Far Away Edp 30 Ml Kadın Parfüm   53,90 TL\n",
            "17  Greathings Doldurulabilir Mini Cep Parfüm Şişe...   29,90 TL\n",
            "18               Avon Perceive Edp 30 Ml Kadın Parfüm   53,90 TL\n",
            "19  Bargello Kadın Kadın Parfüm 122 Oriental 50 ml...  130,00 TL\n",
            "20      Avon Pur Blanca Edt 50 Ml Bayan Parfüm 2 Adet  125,90 TL\n",
            "21      Avon Far Away Glamour Kadın Parfüm Edp 30 Ml.   47,90 TL\n",
            "22  Avon Pur Blanca Edt 50 Ml Ve Wish Of Love Edt ...  109,90 TL\n",
            "23      Avon Little Black Dress Edp Kadın Parfüm 30Ml   48,90 TL\n"
          ]
        }
      ]
    },
    {
      "cell_type": "code",
      "source": [],
      "metadata": {
        "id": "WpBxHjFvBWr3"
      },
      "execution_count": 81,
      "outputs": []
    }
  ]
}