{
  "nbformat": 4,
  "nbformat_minor": 0,
  "metadata": {
    "colab": {
      "provenance": []
    },
    "kernelspec": {
      "name": "python3",
      "display_name": "Python 3"
    },
    "language_info": {
      "name": "python"
    }
  },
  "cells": [
    {
      "cell_type": "code",
      "execution_count": 1,
      "metadata": {
        "id": "WPNQKYKtX2xw"
      },
      "outputs": [],
      "source": [
        "import requests \n",
        "from bs4 import BeautifulSoup"
      ]
    },
    {
      "cell_type": "code",
      "source": [
        "url=\"https://www.rxlist.com/drugs/alpha_a.htm\""
      ],
      "metadata": {
        "id": "_FZMCL41X9Yv"
      },
      "execution_count": 2,
      "outputs": []
    },
    {
      "cell_type": "code",
      "source": [
        "response =requests.get(url)"
      ],
      "metadata": {
        "id": "Hx7AjwYLYB7J"
      },
      "execution_count": 5,
      "outputs": []
    },
    {
      "cell_type": "code",
      "source": [
        "print(response)#succesful connection"
      ],
      "metadata": {
        "colab": {
          "base_uri": "https://localhost:8080/"
        },
        "id": "JwCMXQVKYHDT",
        "outputId": "9d815665-e46b-4139-cdef-a66f9d14e03b"
      },
      "execution_count": 7,
      "outputs": [
        {
          "output_type": "stream",
          "name": "stdout",
          "text": [
            "<Response [200]>\n"
          ]
        }
      ]
    },
    {
      "cell_type": "code",
      "source": [
        "soup=BeautifulSoup(response.content,\"html.parser\")"
      ],
      "metadata": {
        "id": "Hivg0pYIYIXI"
      },
      "execution_count": 8,
      "outputs": []
    },
    {
      "cell_type": "code",
      "source": [
        "medicines=soup.find(\"div\",{\"class\":\"AZ_results\"}).find_all(\"ul\")"
      ],
      "metadata": {
        "id": "-izar4OFYVsV"
      },
      "execution_count": 33,
      "outputs": []
    },
    {
      "cell_type": "code",
      "source": [
        "#print(find)\n",
        "medicine_list=[]"
      ],
      "metadata": {
        "id": "pNLGUjxAYcys"
      },
      "execution_count": 34,
      "outputs": []
    },
    {
      "cell_type": "code",
      "source": [
        "for medicine in medicines:\n",
        "  for medicine_2 in medicine.find_all(\"li\"):\n",
        "    medicine_list.append(medicine_2.find(\"a\").text)\n",
        "  "
      ],
      "metadata": {
        "id": "wWGHJe-aYeIs"
      },
      "execution_count": 47,
      "outputs": []
    },
    {
      "cell_type": "code",
      "source": [
        "import pandas as pd"
      ],
      "metadata": {
        "id": "PHu2b8fXY9Hi"
      },
      "execution_count": 46,
      "outputs": []
    },
    {
      "cell_type": "code",
      "source": [
        "dic={\"ilaç İsimleri\":medicine_list}"
      ],
      "metadata": {
        "id": "cynpwMyTZJzi"
      },
      "execution_count": 48,
      "outputs": []
    },
    {
      "cell_type": "code",
      "source": [
        "df=pd.DataFrame(dic)"
      ],
      "metadata": {
        "id": "n3k8Dzc_bhLB"
      },
      "execution_count": 49,
      "outputs": []
    },
    {
      "cell_type": "code",
      "source": [
        "print(df)"
      ],
      "metadata": {
        "colab": {
          "base_uri": "https://localhost:8080/"
        },
        "id": "lxJzvAkubj2p",
        "outputId": "995a0909-7719-481f-8df5-c30ffb3cc908"
      },
      "execution_count": 50,
      "outputs": [
        {
          "output_type": "stream",
          "name": "stdout",
          "text": [
            "                                         ilaç İsimleri\n",
            "0    A-Methapred (Methylprednisolone Sodium Succinate)\n",
            "1    Abacavir and Lamivudine Film-coated Tablets (K...\n",
            "2                            Abacavir Sulfate (Ziagen)\n",
            "3    Abacavir Sulfate and Lamivudine Tablets (Epzicom)\n",
            "4    Abacavir Sulfate, Lamivudine, and Zidovudine (...\n",
            "..                                                 ...\n",
            "780        Aztreonam for Inhalation Solution (Cayston)\n",
            "781            Aztreonam Injection (Azactam Injection)\n",
            "782  Azulfidine EN-Tabs (Sulfasalazine Delayed Rele...\n",
            "783  Azulfidine EN-tabs (sulfasalazine Delayed Rele...\n",
            "784  Azurette (Desogestrel/ethinyl Estradiol and Et...\n",
            "\n",
            "[785 rows x 1 columns]\n"
          ]
        }
      ]
    },
    {
      "cell_type": "code",
      "source": [],
      "metadata": {
        "id": "aRYxQB5wbmXy"
      },
      "execution_count": null,
      "outputs": []
    }
  ]
}