{
 "cells": [
  {
   "cell_type": "code",
   "execution_count": 2,
   "id": "0adf3295",
   "metadata": {},
   "outputs": [],
   "source": [
    "import requests \n",
    "from bs4 import BeautifulSoup"
   ]
  },
  {
   "cell_type": "code",
   "execution_count": 3,
   "id": "76825631",
   "metadata": {},
   "outputs": [],
   "source": [
    "url=\"https://www.rxlist.com/drugs/alpha_a.htm\""
   ]
  },
  {
   "cell_type": "code",
   "execution_count": 4,
   "id": "5c3581eb",
   "metadata": {},
   "outputs": [],
   "source": [
    "response=requests.get(url)"
   ]
  },
  {
   "cell_type": "code",
   "execution_count": 5,
   "id": "be1e3141",
   "metadata": {},
   "outputs": [
    {
     "name": "stdout",
     "output_type": "stream",
     "text": [
      "<Response [200]>\n"
     ]
    }
   ],
   "source": [
    "print(response)"
   ]
  },
  {
   "cell_type": "code",
   "execution_count": 6,
   "id": "2361b10c",
   "metadata": {},
   "outputs": [],
   "source": [
    "soup=BeautifulSoup(response.content,\"html.parser\")"
   ]
  },
  {
   "cell_type": "code",
   "execution_count": 7,
   "id": "9a482cde",
   "metadata": {},
   "outputs": [],
   "source": [
    "find=soup.find(\"div\",{\"id\":\"A_Z\"}).find(\"ul\")"
   ]
  },
  {
   "cell_type": "code",
   "execution_count": 8,
   "id": "e04a2c0d",
   "metadata": {},
   "outputs": [],
   "source": [
    "url_list=[]"
   ]
  },
  {
   "cell_type": "code",
   "execution_count": 9,
   "id": "fc31293a",
   "metadata": {},
   "outputs": [],
   "source": [
    "for item in find.find_all(\"li\"):\n",
    "  url_list.append(\"https://www.rxlist.com\"+item.find(\"a\").get(\"href\"))"
   ]
  },
  {
   "cell_type": "code",
   "execution_count": 10,
   "id": "ca8e68bb",
   "metadata": {},
   "outputs": [
    {
     "name": "stdout",
     "output_type": "stream",
     "text": [
      "https://www.rxlist.com/drugs/alpha_a.htm\n",
      "https://www.rxlist.com/drugs/alpha_b.htm\n",
      "https://www.rxlist.com/drugs/alpha_c.htm\n",
      "https://www.rxlist.com/drugs/alpha_d.htm\n",
      "https://www.rxlist.com/drugs/alpha_e.htm\n",
      "https://www.rxlist.com/drugs/alpha_f.htm\n",
      "https://www.rxlist.com/drugs/alpha_g.htm\n",
      "https://www.rxlist.com/drugs/alpha_h.htm\n",
      "https://www.rxlist.com/drugs/alpha_i.htm\n",
      "https://www.rxlist.com/drugs/alpha_j.htm\n",
      "https://www.rxlist.com/drugs/alpha_k.htm\n",
      "https://www.rxlist.com/drugs/alpha_l.htm\n",
      "https://www.rxlist.com/drugs/alpha_m.htm\n",
      "https://www.rxlist.com/drugs/alpha_n.htm\n",
      "https://www.rxlist.com/drugs/alpha_o.htm\n",
      "https://www.rxlist.com/drugs/alpha_p.htm\n",
      "https://www.rxlist.com/drugs/alpha_q.htm\n",
      "https://www.rxlist.com/drugs/alpha_r.htm\n",
      "https://www.rxlist.com/drugs/alpha_s.htm\n",
      "https://www.rxlist.com/drugs/alpha_t.htm\n",
      "https://www.rxlist.com/drugs/alpha_u.htm\n",
      "https://www.rxlist.com/drugs/alpha_v.htm\n",
      "https://www.rxlist.com/drugs/alpha_w.htm\n",
      "https://www.rxlist.com/drugs/alpha_x.htm\n",
      "https://www.rxlist.com/drugs/alpha_y.htm\n",
      "https://www.rxlist.com/drugs/alpha_z.htm\n"
     ]
    }
   ],
   "source": [
    "for item in url_list:\n",
    "  print(item)"
   ]
  },
  {
   "cell_type": "code",
   "execution_count": 11,
   "id": "883c9c78",
   "metadata": {},
   "outputs": [],
   "source": [
    "medicine_list=[]"
   ]
  },
  {
   "cell_type": "code",
   "execution_count": 12,
   "id": "e6c1856f",
   "metadata": {},
   "outputs": [],
   "source": [
    "for item in url_list:\n",
    "  response=requests.get(item)\n",
    "  soup=BeautifulSoup(response.content,\"html.parser\")\n",
    "  find=soup.find(\"div\",{\"class\":\"AZ_results\"}).find_all(\"ul\")\n",
    "  # print(find)\n",
    "  for i in find:\n",
    "    its=i.find_all(\"li\")\n",
    "    for i2 in its:\n",
    "      medicine_list.append(i2.text)"
   ]
  },
  {
   "cell_type": "code",
   "execution_count": 13,
   "id": "d9ca43bb",
   "metadata": {},
   "outputs": [
    {
     "name": "stdout",
     "output_type": "stream",
     "text": [
      "8157\n"
     ]
    }
   ],
   "source": [
    "print(len(medicine_list))"
   ]
  },
  {
   "cell_type": "code",
   "execution_count": 14,
   "id": "cefa6c3f",
   "metadata": {},
   "outputs": [],
   "source": [
    "import pandas as pd"
   ]
  },
  {
   "cell_type": "code",
   "execution_count": 15,
   "id": "23f642de",
   "metadata": {},
   "outputs": [],
   "source": [
    "dic={\"Medicine Name\":medicine_list}"
   ]
  },
  {
   "cell_type": "code",
   "execution_count": 16,
   "id": "462cc949",
   "metadata": {},
   "outputs": [],
   "source": [
    "df=pd.DataFrame(dic)"
   ]
  },
  {
   "cell_type": "code",
   "execution_count": 20,
   "id": "c0d4a7ee",
   "metadata": {},
   "outputs": [
    {
     "data": {
      "text/html": [
       "<div>\n",
       "<style scoped>\n",
       "    .dataframe tbody tr th:only-of-type {\n",
       "        vertical-align: middle;\n",
       "    }\n",
       "\n",
       "    .dataframe tbody tr th {\n",
       "        vertical-align: top;\n",
       "    }\n",
       "\n",
       "    .dataframe thead th {\n",
       "        text-align: right;\n",
       "    }\n",
       "</style>\n",
       "<table border=\"1\" class=\"dataframe\">\n",
       "  <thead>\n",
       "    <tr style=\"text-align: right;\">\n",
       "      <th></th>\n",
       "      <th>Medicine Name</th>\n",
       "    </tr>\n",
       "  </thead>\n",
       "  <tbody>\n",
       "    <tr>\n",
       "      <th>0</th>\n",
       "      <td>A-Methapred (Methylprednisolone Sodium Succinate)</td>\n",
       "    </tr>\n",
       "    <tr>\n",
       "      <th>1</th>\n",
       "      <td>Abacavir and Lamivudine Film-coated Tablets (K...</td>\n",
       "    </tr>\n",
       "    <tr>\n",
       "      <th>2</th>\n",
       "      <td>Abacavir Sulfate (Ziagen)</td>\n",
       "    </tr>\n",
       "    <tr>\n",
       "      <th>3</th>\n",
       "      <td>Abacavir Sulfate and Lamivudine Tablets (Epzicom)</td>\n",
       "    </tr>\n",
       "    <tr>\n",
       "      <th>4</th>\n",
       "      <td>Abacavir Sulfate, Lamivudine, and Zidovudine (...</td>\n",
       "    </tr>\n",
       "    <tr>\n",
       "      <th>...</th>\n",
       "      <td>...</td>\n",
       "    </tr>\n",
       "    <tr>\n",
       "      <th>8152</th>\n",
       "      <td>Zyprexa, Zyprexa Zydis (Olanzapine)</td>\n",
       "    </tr>\n",
       "    <tr>\n",
       "      <th>8153</th>\n",
       "      <td>Zyrtec (Cetirizine)</td>\n",
       "    </tr>\n",
       "    <tr>\n",
       "      <th>8154</th>\n",
       "      <td>Zyrtec-D (Cetirizine, Pseudoephedrine)</td>\n",
       "    </tr>\n",
       "    <tr>\n",
       "      <th>8155</th>\n",
       "      <td>Zytiga (Abiraterone Acetate Tablets)</td>\n",
       "    </tr>\n",
       "    <tr>\n",
       "      <th>8156</th>\n",
       "      <td>Zyvox (Linezolid)</td>\n",
       "    </tr>\n",
       "  </tbody>\n",
       "</table>\n",
       "<p>8157 rows × 1 columns</p>\n",
       "</div>"
      ],
      "text/plain": [
       "                                          Medicine Name\n",
       "0     A-Methapred (Methylprednisolone Sodium Succinate)\n",
       "1     Abacavir and Lamivudine Film-coated Tablets (K...\n",
       "2                             Abacavir Sulfate (Ziagen)\n",
       "3     Abacavir Sulfate and Lamivudine Tablets (Epzicom)\n",
       "4     Abacavir Sulfate, Lamivudine, and Zidovudine (...\n",
       "...                                                 ...\n",
       "8152                Zyprexa, Zyprexa Zydis (Olanzapine)\n",
       "8153                                Zyrtec (Cetirizine)\n",
       "8154             Zyrtec-D (Cetirizine, Pseudoephedrine)\n",
       "8155               Zytiga (Abiraterone Acetate Tablets)\n",
       "8156                                  Zyvox (Linezolid)\n",
       "\n",
       "[8157 rows x 1 columns]"
      ]
     },
     "execution_count": 20,
     "metadata": {},
     "output_type": "execute_result"
    }
   ],
   "source": [
    "df"
   ]
  },
  {
   "cell_type": "code",
   "execution_count": 18,
   "id": "1692b3cf",
   "metadata": {},
   "outputs": [],
   "source": [
    "df.to_excel(\"medicine_name.xlsx\")"
   ]
  },
  {
   "cell_type": "code",
   "execution_count": 19,
   "id": "90606c9c",
   "metadata": {},
   "outputs": [
    {
     "name": "stdout",
     "output_type": "stream",
     "text": [
      "      Unnamed: 0                                      Medicine Name\n",
      "0              0  A-Methapred (Methylprednisolone Sodium Succinate)\n",
      "1              1  Abacavir and Lamivudine Film-coated Tablets (K...\n",
      "2              2                          Abacavir Sulfate (Ziagen)\n",
      "3              3  Abacavir Sulfate and Lamivudine Tablets (Epzicom)\n",
      "4              4  Abacavir Sulfate, Lamivudine, and Zidovudine (...\n",
      "...          ...                                                ...\n",
      "8152        8152                Zyprexa, Zyprexa Zydis (Olanzapine)\n",
      "8153        8153                                Zyrtec (Cetirizine)\n",
      "8154        8154             Zyrtec-D (Cetirizine, Pseudoephedrine)\n",
      "8155        8155               Zytiga (Abiraterone Acetate Tablets)\n",
      "8156        8156                                  Zyvox (Linezolid)\n",
      "\n",
      "[8157 rows x 2 columns]\n"
     ]
    }
   ],
   "source": [
    "print(pd.read_excel(\"medicine_name.xlsx\"))"
   ]
  },
  {
   "cell_type": "code",
   "execution_count": null,
   "id": "7b364424",
   "metadata": {},
   "outputs": [],
   "source": []
  }
 ],
 "metadata": {
  "kernelspec": {
   "display_name": "Python 3 (ipykernel)",
   "language": "python",
   "name": "python3"
  },
  "language_info": {
   "codemirror_mode": {
    "name": "ipython",
    "version": 3
   },
   "file_extension": ".py",
   "mimetype": "text/x-python",
   "name": "python",
   "nbconvert_exporter": "python",
   "pygments_lexer": "ipython3",
   "version": "3.9.13"
  }
 },
 "nbformat": 4,
 "nbformat_minor": 5
}
