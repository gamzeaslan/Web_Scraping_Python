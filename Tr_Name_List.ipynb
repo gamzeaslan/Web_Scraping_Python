{
 "cells": [
  {
   "cell_type": "code",
   "execution_count": 1,
   "id": "ce37f5fb",
   "metadata": {},
   "outputs": [],
   "source": [
    "import requests \n",
    "from bs4 import BeautifulSoup"
   ]
  },
  {
   "cell_type": "code",
   "execution_count": 2,
   "id": "8acdd9a3",
   "metadata": {},
   "outputs": [],
   "source": [
    "url=\"https://hamariweb.com/names/turkish/\""
   ]
  },
  {
   "cell_type": "code",
   "execution_count": 3,
   "id": "c1ac75a7",
   "metadata": {},
   "outputs": [],
   "source": [
    "response=requests.get(url)"
   ]
  },
  {
   "cell_type": "code",
   "execution_count": 4,
   "id": "85e09465",
   "metadata": {},
   "outputs": [
    {
     "name": "stdout",
     "output_type": "stream",
     "text": [
      "<Response [200]>\n"
     ]
    }
   ],
   "source": [
    "print(response)"
   ]
  },
  {
   "cell_type": "code",
   "execution_count": 5,
   "id": "dbffa13e",
   "metadata": {},
   "outputs": [],
   "source": [
    "soup=BeautifulSoup(response.content,\"html.parser\")"
   ]
  },
  {
   "cell_type": "code",
   "execution_count": 6,
   "id": "aca12155",
   "metadata": {},
   "outputs": [],
   "source": [
    "find=soup.find(\"div\",{\"class\":\"tabs__content active\",\"id\":\"tab-1\"}).find_all(\"tr\")"
   ]
  },
  {
   "cell_type": "code",
   "execution_count": 7,
   "id": "4f804b4b",
   "metadata": {},
   "outputs": [],
   "source": [
    "name_list=[]"
   ]
  },
  {
   "cell_type": "code",
   "execution_count": 8,
   "id": "e3aed385",
   "metadata": {},
   "outputs": [
    {
     "name": "stdout",
     "output_type": "stream",
     "text": [
      "-----------\n"
     ]
    }
   ],
   "source": [
    "for item in find:\n",
    "  try:\n",
    "    it=item.find(\"td\")\n",
    "    name_list.append(it.text)\n",
    "  except:\n",
    "    print(\"-----------\")"
   ]
  },
  {
   "cell_type": "code",
   "execution_count": 9,
   "id": "eb28bd4e",
   "metadata": {},
   "outputs": [
    {
     "name": "stdout",
     "output_type": "stream",
     "text": [
      "Altamash\n",
      "Elif\n",
      "Murat\n",
      "Esra\n",
      "Hande\n",
      "Alara\n",
      "Ayleen\n",
      "Burak\n",
      "Afridi\n",
      "Orhan\n",
      "Eren\n",
      "Ertugrul\n",
      "Sibel\n",
      "Altan\n",
      "Demir\n",
      "Ozan\n",
      "Aylin\n",
      "Eylül\n",
      "Emre\n",
      "Can\n",
      "Deniz\n",
      "Emin\n",
      "Pasha\n",
      "Alp\n",
      "Emira\n",
      "Baris\n",
      "Aibak\n",
      "Aagha\n",
      "Yildiz\n",
      "Aaghaa\n",
      "Halime\n",
      "Aiyla\n",
      "Baki\n",
      "Ozge\n",
      "Tabib\n",
      "Lunara\n",
      "Filiz\n",
      "Emel\n",
      "Hasad\n",
      "Ender\n",
      "Afandi\n",
      "Kaan\n",
      "Elnara\n",
      "Ceylan\n",
      "Akay\n",
      "Emine\n",
      "Baig\n",
      "Sefa\n",
      "Oguz\n",
      "Okan\n",
      "Emir\n",
      "Esmeray\n",
      "Ceyda\n",
      "Efe\n",
      "Enayat\n",
      "Safiye\n",
      "Defne\n",
      "Turgut\n",
      "Esana\n",
      "Mesut\n",
      "Gamze\n",
      "Alev\n",
      "Mert\n",
      "Rezan\n",
      "Dameer\n",
      "Eldar\n",
      "Chana\n",
      "Kadri\n",
      "Ozge\n",
      "Neylan\n",
      "Ece\n",
      "Sezen\n",
      "Guney\n",
      "Khatoon\n",
      "Chughtai\n",
      "Aergul\n",
      "Abay\n",
      "Tarkan\n",
      "Shahinaz\n",
      "Beyza\n",
      "Funda\n",
      "Balian\n",
      "Soner\n",
      "Nazik\n",
      "Onur\n",
      "Burcu\n",
      "Zeki\n",
      "Asur\n",
      "Meltem\n",
      "Bashi\n",
      "Aydin\n",
      "Serap\n",
      "Abi\n",
      "Ensar\n",
      "Ahmet\n",
      "Ediz\n",
      "Aysun\n",
      "Bamsi\n",
      "Elvan\n",
      "Cenk\n"
     ]
    }
   ],
   "source": [
    "for item in name_list:\n",
    "  print(item)"
   ]
  },
  {
   "cell_type": "code",
   "execution_count": 10,
   "id": "7ba4bfb3",
   "metadata": {},
   "outputs": [],
   "source": [
    "import pandas as pd"
   ]
  },
  {
   "cell_type": "code",
   "execution_count": 11,
   "id": "009e3480",
   "metadata": {},
   "outputs": [],
   "source": [
    "dic={\"İsimler\":name_list}"
   ]
  },
  {
   "cell_type": "code",
   "execution_count": 12,
   "id": "9dc2f0bf",
   "metadata": {},
   "outputs": [],
   "source": [
    "df=pd.DataFrame(dic)"
   ]
  },
  {
   "cell_type": "code",
   "execution_count": 13,
   "id": "722d1845",
   "metadata": {},
   "outputs": [
    {
     "data": {
      "text/html": [
       "<div>\n",
       "<style scoped>\n",
       "    .dataframe tbody tr th:only-of-type {\n",
       "        vertical-align: middle;\n",
       "    }\n",
       "\n",
       "    .dataframe tbody tr th {\n",
       "        vertical-align: top;\n",
       "    }\n",
       "\n",
       "    .dataframe thead th {\n",
       "        text-align: right;\n",
       "    }\n",
       "</style>\n",
       "<table border=\"1\" class=\"dataframe\">\n",
       "  <thead>\n",
       "    <tr style=\"text-align: right;\">\n",
       "      <th></th>\n",
       "      <th>İsimler</th>\n",
       "    </tr>\n",
       "  </thead>\n",
       "  <tbody>\n",
       "    <tr>\n",
       "      <th>0</th>\n",
       "      <td>Altamash</td>\n",
       "    </tr>\n",
       "    <tr>\n",
       "      <th>1</th>\n",
       "      <td>Elif</td>\n",
       "    </tr>\n",
       "    <tr>\n",
       "      <th>2</th>\n",
       "      <td>Murat</td>\n",
       "    </tr>\n",
       "    <tr>\n",
       "      <th>3</th>\n",
       "      <td>Esra</td>\n",
       "    </tr>\n",
       "    <tr>\n",
       "      <th>4</th>\n",
       "      <td>Hande</td>\n",
       "    </tr>\n",
       "    <tr>\n",
       "      <th>...</th>\n",
       "      <td>...</td>\n",
       "    </tr>\n",
       "    <tr>\n",
       "      <th>95</th>\n",
       "      <td>Ediz</td>\n",
       "    </tr>\n",
       "    <tr>\n",
       "      <th>96</th>\n",
       "      <td>Aysun</td>\n",
       "    </tr>\n",
       "    <tr>\n",
       "      <th>97</th>\n",
       "      <td>Bamsi</td>\n",
       "    </tr>\n",
       "    <tr>\n",
       "      <th>98</th>\n",
       "      <td>Elvan</td>\n",
       "    </tr>\n",
       "    <tr>\n",
       "      <th>99</th>\n",
       "      <td>Cenk</td>\n",
       "    </tr>\n",
       "  </tbody>\n",
       "</table>\n",
       "<p>100 rows × 1 columns</p>\n",
       "</div>"
      ],
      "text/plain": [
       "     İsimler\n",
       "0   Altamash\n",
       "1       Elif\n",
       "2      Murat\n",
       "3       Esra\n",
       "4      Hande\n",
       "..       ...\n",
       "95      Ediz\n",
       "96     Aysun\n",
       "97     Bamsi\n",
       "98     Elvan\n",
       "99      Cenk\n",
       "\n",
       "[100 rows x 1 columns]"
      ]
     },
     "execution_count": 13,
     "metadata": {},
     "output_type": "execute_result"
    }
   ],
   "source": [
    "df"
   ]
  },
  {
   "cell_type": "code",
   "execution_count": 14,
   "id": "cfd177e9",
   "metadata": {},
   "outputs": [],
   "source": [
    "df.to_excel(\"İsimler.xlsx\")"
   ]
  },
  {
   "cell_type": "code",
   "execution_count": 15,
   "id": "afb94663",
   "metadata": {},
   "outputs": [
    {
     "data": {
      "text/html": [
       "<div>\n",
       "<style scoped>\n",
       "    .dataframe tbody tr th:only-of-type {\n",
       "        vertical-align: middle;\n",
       "    }\n",
       "\n",
       "    .dataframe tbody tr th {\n",
       "        vertical-align: top;\n",
       "    }\n",
       "\n",
       "    .dataframe thead th {\n",
       "        text-align: right;\n",
       "    }\n",
       "</style>\n",
       "<table border=\"1\" class=\"dataframe\">\n",
       "  <thead>\n",
       "    <tr style=\"text-align: right;\">\n",
       "      <th></th>\n",
       "      <th>Unnamed: 0</th>\n",
       "      <th>İsimler</th>\n",
       "    </tr>\n",
       "  </thead>\n",
       "  <tbody>\n",
       "    <tr>\n",
       "      <th>0</th>\n",
       "      <td>0</td>\n",
       "      <td>Altamash</td>\n",
       "    </tr>\n",
       "    <tr>\n",
       "      <th>1</th>\n",
       "      <td>1</td>\n",
       "      <td>Elif</td>\n",
       "    </tr>\n",
       "    <tr>\n",
       "      <th>2</th>\n",
       "      <td>2</td>\n",
       "      <td>Murat</td>\n",
       "    </tr>\n",
       "    <tr>\n",
       "      <th>3</th>\n",
       "      <td>3</td>\n",
       "      <td>Esra</td>\n",
       "    </tr>\n",
       "    <tr>\n",
       "      <th>4</th>\n",
       "      <td>4</td>\n",
       "      <td>Hande</td>\n",
       "    </tr>\n",
       "    <tr>\n",
       "      <th>...</th>\n",
       "      <td>...</td>\n",
       "      <td>...</td>\n",
       "    </tr>\n",
       "    <tr>\n",
       "      <th>95</th>\n",
       "      <td>95</td>\n",
       "      <td>Ediz</td>\n",
       "    </tr>\n",
       "    <tr>\n",
       "      <th>96</th>\n",
       "      <td>96</td>\n",
       "      <td>Aysun</td>\n",
       "    </tr>\n",
       "    <tr>\n",
       "      <th>97</th>\n",
       "      <td>97</td>\n",
       "      <td>Bamsi</td>\n",
       "    </tr>\n",
       "    <tr>\n",
       "      <th>98</th>\n",
       "      <td>98</td>\n",
       "      <td>Elvan</td>\n",
       "    </tr>\n",
       "    <tr>\n",
       "      <th>99</th>\n",
       "      <td>99</td>\n",
       "      <td>Cenk</td>\n",
       "    </tr>\n",
       "  </tbody>\n",
       "</table>\n",
       "<p>100 rows × 2 columns</p>\n",
       "</div>"
      ],
      "text/plain": [
       "    Unnamed: 0   İsimler\n",
       "0            0  Altamash\n",
       "1            1      Elif\n",
       "2            2     Murat\n",
       "3            3      Esra\n",
       "4            4     Hande\n",
       "..         ...       ...\n",
       "95          95      Ediz\n",
       "96          96     Aysun\n",
       "97          97     Bamsi\n",
       "98          98     Elvan\n",
       "99          99      Cenk\n",
       "\n",
       "[100 rows x 2 columns]"
      ]
     },
     "execution_count": 15,
     "metadata": {},
     "output_type": "execute_result"
    }
   ],
   "source": [
    "pd.read_excel(\"İsimler.xlsx\")"
   ]
  },
  {
   "cell_type": "code",
   "execution_count": null,
   "id": "2167bfd0",
   "metadata": {},
   "outputs": [],
   "source": []
  }
 ],
 "metadata": {
  "kernelspec": {
   "display_name": "Python 3 (ipykernel)",
   "language": "python",
   "name": "python3"
  },
  "language_info": {
   "codemirror_mode": {
    "name": "ipython",
    "version": 3
   },
   "file_extension": ".py",
   "mimetype": "text/x-python",
   "name": "python",
   "nbconvert_exporter": "python",
   "pygments_lexer": "ipython3",
   "version": "3.9.13"
  }
 },
 "nbformat": 4,
 "nbformat_minor": 5
}
